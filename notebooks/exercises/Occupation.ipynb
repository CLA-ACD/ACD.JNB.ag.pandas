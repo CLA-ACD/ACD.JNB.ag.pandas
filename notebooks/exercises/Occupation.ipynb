{
 "cells": [
  {
   "cell_type": "markdown",
   "metadata": {},
   "source": [
    "## Empleo"
   ]
  },
  {
   "cell_type": "markdown",
   "metadata": {},
   "source": [
    "### Importando las librerias necesarias"
   ]
  },
  {
   "cell_type": "code",
   "execution_count": null,
   "metadata": {},
   "outputs": [],
   "source": [
    "import pandas as pd\n",
    "import sys; sys.path.insert(0, '../../')\n",
    "from learntools.core import binder\n",
    "binder.bind(globals())\n",
    "from learntools.exercises.ex import *\n",
    "print('Setup complete.')"
   ]
  },
  {
   "cell_type": "markdown",
   "metadata": {},
   "source": [
    "### Utilice el dataframe df de acuerdo con las instrucciones dadas."
   ]
  },
  {
   "cell_type": "code",
   "execution_count": null,
   "metadata": {},
   "outputs": [],
   "source": [
    "df = pd.read_csv('./u.user', sep='|', index_col='user_id')"
   ]
  },
  {
   "cell_type": "markdown",
   "metadata": {},
   "source": [
    "#### 1. Consulta las primeras 5 filas.\n",
    "Deja el resultado en la variable p1."
   ]
  },
  {
   "cell_type": "code",
   "execution_count": null,
   "metadata": {
    "scrolled": true
   },
   "outputs": [],
   "source": [
    "p1 = # coloca aquí tu respuesta\n",
    "\n",
    "r1 = q1.check()"
   ]
  },
  {
   "cell_type": "markdown",
   "metadata": {},
   "source": [
    "#### 2. Consulta la columna 'occupation'.\n",
    "Deja el resultado en la variable p2."
   ]
  },
  {
   "cell_type": "code",
   "execution_count": null,
   "metadata": {
    "scrolled": true
   },
   "outputs": [],
   "source": [
    "p2 = # coloca aquí tu respuesta\n",
    "\n",
    "r2 = q2.check()"
   ]
  },
  {
   "cell_type": "markdown",
   "metadata": {},
   "source": [
    "#### 3. Consulta las filas que tienen el valor 'administrator' en la columna 'occupation'.\n",
    "Deja el resultado en la variable p3."
   ]
  },
  {
   "cell_type": "code",
   "execution_count": null,
   "metadata": {},
   "outputs": [],
   "source": [
    "p3 = # coloca aquí tu respuesta\n",
    "\n",
    "r3 = q3.check()"
   ]
  },
  {
   "cell_type": "markdown",
   "metadata": {},
   "source": [
    "#### 4. Consulta las filas donde no existan valores faltantes de la columna 'occupation'.\n",
    "Deja el resultado en la variable p4."
   ]
  },
  {
   "cell_type": "code",
   "execution_count": null,
   "metadata": {},
   "outputs": [],
   "source": [
    "p4 = # coloca aquí tu respuesta\n",
    "\n",
    "r4 = q4.check()"
   ]
  },
  {
   "cell_type": "markdown",
   "metadata": {},
   "source": [
    "#### 5. Consulta la media de las edades para hombres (M) y mujeres (F).\n",
    "Deja el resultado en la variable p5."
   ]
  },
  {
   "cell_type": "code",
   "execution_count": null,
   "metadata": {},
   "outputs": [],
   "source": [
    "p5 = # coloca aquí tu respuesta\n",
    "\n",
    "r5 = q5.check()"
   ]
  },
  {
   "cell_type": "markdown",
   "metadata": {},
   "source": [
    "#### 6. En las filas que contengan el valor 'educator', reemplázalo por 'teacher'.\n",
    "Deja el resultado en la variable p6."
   ]
  },
  {
   "cell_type": "code",
   "execution_count": null,
   "metadata": {},
   "outputs": [],
   "source": [
    "p6 = # coloca aquí tu respuesta\n",
    "\n",
    "r6 = q6.check()"
   ]
  },
  {
   "cell_type": "markdown",
   "metadata": {},
   "source": [
    "#### 7. Consulta la cantidad de valores faltantes en cada columna.\n",
    "Deja el resultado en la variable p7."
   ]
  },
  {
   "cell_type": "code",
   "execution_count": null,
   "metadata": {},
   "outputs": [],
   "source": [
    "p7 = # coloca aquí tu respuesta\n",
    "\n",
    "r7 =  q7.check()"
   ]
  },
  {
   "cell_type": "markdown",
   "metadata": {},
   "source": [
    "#### 8. Elimine todas las filas con datos faltantes.\n",
    "Deja el resultado en la variable p8."
   ]
  },
  {
   "cell_type": "code",
   "execution_count": null,
   "metadata": {},
   "outputs": [],
   "source": [
    "p8 = # coloca aquí tu respuesta\n",
    "\n",
    "r8 = q8.check()"
   ]
  },
  {
   "cell_type": "markdown",
   "metadata": {},
   "source": [
    "#### 9. Reemplace los valores faltantes de la columna 'occupation' por el valor 'unknown'.\n",
    "Deja el resultado en la variable p9."
   ]
  },
  {
   "cell_type": "code",
   "execution_count": null,
   "metadata": {},
   "outputs": [],
   "source": [
    "p9 = # coloca aquí tu respuesta\n",
    "\n",
    "r9 = q9.check()"
   ]
  },
  {
   "cell_type": "markdown",
   "metadata": {},
   "source": [
    "#### 10. Convierta los valores de la columna 'birth_date' al tipo Datetime\n",
    "Deja el resultado en la variable p10."
   ]
  },
  {
   "cell_type": "code",
   "execution_count": null,
   "metadata": {},
   "outputs": [],
   "source": [
    "p10 = # coloca aquí tu respuesta\n",
    "\n",
    "r10 = q10.check()"
   ]
  },
  {
   "cell_type": "markdown",
   "metadata": {},
   "source": [
    "### Dentro de la terminal, ejecute el comando 'make'\n",
    "No modifique la siguiente linea de código."
   ]
  },
  {
   "cell_type": "code",
   "execution_count": null,
   "metadata": {},
   "outputs": [],
   "source": [
    "__all__ = [r1, r2, r3, r4, r5, r6, r7, r8, r9, r10]"
   ]
  }
 ],
 "metadata": {
  "anaconda-cloud": {},
  "kernelspec": {
   "display_name": "Python 3 (ipykernel)",
   "language": "python",
   "name": "python3"
  },
  "language_info": {
   "codemirror_mode": {
    "name": "ipython",
    "version": 3
   },
   "file_extension": ".py",
   "mimetype": "text/x-python",
   "name": "python",
   "nbconvert_exporter": "python",
   "pygments_lexer": "ipython3",
   "version": "3.10.8"
  }
 },
 "nbformat": 4,
 "nbformat_minor": 1
}
